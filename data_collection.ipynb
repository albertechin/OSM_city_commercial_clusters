{
 "cells": [
  {
   "cell_type": "markdown",
   "metadata": {},
   "source": [
    "<h1 align='center'>Collecting POI data of Bengaluru City from open street maps (OSM)</h1>"
   ]
  },
  {
   "cell_type": "markdown",
   "metadata": {},
   "source": [
    "We will use overpy library which is a python client for OverpassAPI "
   ]
  },
  {
   "cell_type": "code",
   "execution_count": 1,
   "metadata": {},
   "outputs": [],
   "source": [
    "import overpy\n",
    "import pandas as pd"
   ]
  },
  {
   "cell_type": "markdown",
   "metadata": {},
   "source": [
    "### Let's define a dictionary to store fetched POI data"
   ]
  },
  {
   "cell_type": "code",
   "execution_count": 2,
   "metadata": {},
   "outputs": [],
   "source": [
    "# Defining dictionary to store data\n",
    "data = {\"id\":[] , \"category\":[], \"sub_category\":[], \"lat\":[], \"lon\":[] }"
   ]
  },
  {
   "cell_type": "markdown",
   "metadata": {},
   "source": [
    "### Let's define some functions to automate the process of fetching POI data from OverpassAPI"
   ]
  },
  {
   "cell_type": "code",
   "execution_count": 3,
   "metadata": {},
   "outputs": [],
   "source": [
    "def add_data(category, sub_category, ways):\n",
    "    \"\"\"\n",
    "    Helper function to add results of API call to data dictionary\n",
    "    \"\"\"\n",
    "    for way in ways:\n",
    "        data[\"id\"].append(way.id)\n",
    "        data[\"category\"].append(category)\n",
    "        data[\"sub_category\"].append(sub_category)\n",
    "        data[\"lat\"].append(float(way.center_lat))\n",
    "        data[\"lon\"].append(float(way.center_lon))"
   ]
  },
  {
   "cell_type": "code",
   "execution_count": 4,
   "metadata": {},
   "outputs": [],
   "source": [
    "def get_query_string(key, value=None, city=\"Bengaluru\"):\n",
    "    \"\"\"\n",
    "    Helper function to create query string\n",
    "    \"\"\"\n",
    "    if value is None:\n",
    "        query_string = f\"\"\"\n",
    "        [out:json];\n",
    "        area[name=\"{city}\"];\n",
    "        way[\"{key}\"](area);\n",
    "        out center;    \n",
    "    \"\"\"\n",
    "    else:\n",
    "        query_string = f\"\"\"\n",
    "            [out:json];\n",
    "            area[name=\"{city}\"];\n",
    "            way[\"{key}\"=\"{value}\"](area);\n",
    "            out center;    \n",
    "        \"\"\"\n",
    "        \n",
    "    return query_string     "
   ]
  },
  {
   "cell_type": "code",
   "execution_count": 5,
   "metadata": {},
   "outputs": [],
   "source": [
    "def api_call(key, category=\"\", value_list= None, value=None, city=\"Bengaluru\"):\n",
    "    \"\"\"\n",
    "    Custom Function to call OverpassAPI\n",
    "    \"\"\"\n",
    "    api = overpy.Overpass()\n",
    "    \n",
    "    if value_list is not None:\n",
    "        for val in value_list:\n",
    "            query_string = get_query_string(key=key, value=val, city=city)\n",
    "            result = api.query(query_string)\n",
    "            add_data(category, val, result.ways)\n",
    "    elif value is not None:\n",
    "        get_query_string(key, value, city)\n",
    "        result = api.query(query_string)\n",
    "        add_data(category, key, result.ways)\n",
    "    else:\n",
    "        query_string = get_query_string(key=key, city=city)\n",
    "        result = api.query(query_string)\n",
    "        add_data(category, key, result.ways)"
   ]
  },
  {
   "cell_type": "markdown",
   "metadata": {},
   "source": [
    "### Fetch all POIs related to Sustenance"
   ]
  },
  {
   "cell_type": "code",
   "execution_count": 6,
   "metadata": {},
   "outputs": [
    {
     "data": {
      "text/plain": [
       "140"
      ]
     },
     "execution_count": 6,
     "metadata": {},
     "output_type": "execute_result"
    }
   ],
   "source": [
    "# Sustenance\n",
    "sustenance = [\"bar\", \"bbq\", \"cafe\", \"biergarten\", \"fast_food\", \"food_court\", \"pub\", \"restaurant\", \"ice_cream\"]\n",
    "api_call(key=\"amenity\", category=\"sustenance\", value_list=sustenance)\n",
    "len(data[\"id\"])"
   ]
  },
  {
   "cell_type": "markdown",
   "metadata": {},
   "source": [
    "### Fetch all POIs related to Education"
   ]
  },
  {
   "cell_type": "code",
   "execution_count": 7,
   "metadata": {},
   "outputs": [
    {
     "data": {
      "text/plain": [
       "745"
      ]
     },
     "execution_count": 7,
     "metadata": {},
     "output_type": "execute_result"
    }
   ],
   "source": [
    "# Education\n",
    "education = [\"college\", \"school\", \"university\", \"library\", \"language_school\", \"kindergarten\", \"driving_school\"]\n",
    "api_call(key=\"amenity\", category=\"education\", value_list=education)\n",
    "len(data[\"id\"])"
   ]
  },
  {
   "cell_type": "markdown",
   "metadata": {},
   "source": [
    "### Fetch all POIs related to Healthcare"
   ]
  },
  {
   "cell_type": "code",
   "execution_count": 8,
   "metadata": {},
   "outputs": [
    {
     "data": {
      "text/plain": [
       "923"
      ]
     },
     "execution_count": 8,
     "metadata": {},
     "output_type": "execute_result"
    }
   ],
   "source": [
    "# Healthcare\n",
    "healthcare = [\"hospital\", \"clinic\", \"nursing_home\", \"pharmacy\", \"veterinary\", \"doctors\", \"dentist\"]\n",
    "api_call(key=\"amenity\", category=\"healthcare\", value_list=healthcare)\n",
    "len(data[\"id\"])"
   ]
  },
  {
   "cell_type": "markdown",
   "metadata": {},
   "source": [
    "### Fetch all POIs related to Entertainment"
   ]
  },
  {
   "cell_type": "code",
   "execution_count": 9,
   "metadata": {},
   "outputs": [
    {
     "data": {
      "text/plain": [
       "967"
      ]
     },
     "execution_count": 9,
     "metadata": {},
     "output_type": "execute_result"
    }
   ],
   "source": [
    "# Entertainment\n",
    "entertainment = [\"arts_centre\", \"casino\", \"cinema\", \"communtity_centre\", \"gambling\", \"nightclub\", \"planetarium\", \"theater\"]\n",
    "api_call(key=\"amenity\", category=\"entertainment\", value_list=entertainment)\n",
    "len(data[\"id\"])"
   ]
  },
  {
   "cell_type": "code",
   "execution_count": 10,
   "metadata": {},
   "outputs": [
    {
     "data": {
      "text/plain": [
       "2789"
      ]
     },
     "execution_count": 10,
     "metadata": {},
     "output_type": "execute_result"
    }
   ],
   "source": [
    "api_call(key=\"leisure\", category=\"entertainment\")\n",
    "len(data[\"id\"])"
   ]
  },
  {
   "cell_type": "markdown",
   "metadata": {},
   "source": [
    "### Fetch all POIs related to Accomodation"
   ]
  },
  {
   "cell_type": "code",
   "execution_count": 11,
   "metadata": {},
   "outputs": [
    {
     "data": {
      "text/plain": [
       "5750"
      ]
     },
     "execution_count": 11,
     "metadata": {},
     "output_type": "execute_result"
    }
   ],
   "source": [
    "# Accomodation\n",
    "accomodation = [\"apartments\", \"bunglow\", \"dormitory\", \"house\", \"residential\"]\n",
    "api_call(key=\"building\", category=\"accomodation\", value_list=accomodation)\n",
    "len(data[\"id\"])"
   ]
  },
  {
   "cell_type": "markdown",
   "metadata": {},
   "source": [
    "### Fetch all POIs related to Commercial Activites"
   ]
  },
  {
   "cell_type": "code",
   "execution_count": 12,
   "metadata": {},
   "outputs": [
    {
     "data": {
      "text/plain": [
       "6685"
      ]
     },
     "execution_count": 12,
     "metadata": {},
     "output_type": "execute_result"
    }
   ],
   "source": [
    "# Commercial\n",
    "commercial = [\"commercial\", \"industrial\", \"kiosk\", \"office\", \"retail\", \"supermarket\", \"warehouse\"]\n",
    "api_call(key=\"building\", category=\"commercial\", value_list=commercial)\n",
    "len(data[\"id\"])"
   ]
  },
  {
   "cell_type": "markdown",
   "metadata": {},
   "source": [
    "### Fetch all POIs related to Religious Activities"
   ]
  },
  {
   "cell_type": "code",
   "execution_count": 13,
   "metadata": {},
   "outputs": [
    {
     "data": {
      "text/plain": [
       "6765"
      ]
     },
     "execution_count": 13,
     "metadata": {},
     "output_type": "execute_result"
    }
   ],
   "source": [
    "# Religious\n",
    "religious = [\"cathedral\", \"chapel\", \"church\", \"mosque\", \"religious\", \"shrine\", \"temple\"]\n",
    "api_call(key=\"building\", category=\"religious\", value_list=religious)\n",
    "len(data[\"id\"])"
   ]
  },
  {
   "cell_type": "markdown",
   "metadata": {},
   "source": [
    "### Fetch all POIs related to Agriculture"
   ]
  },
  {
   "cell_type": "code",
   "execution_count": 14,
   "metadata": {},
   "outputs": [
    {
     "data": {
      "text/plain": [
       "6767"
      ]
     },
     "execution_count": 14,
     "metadata": {},
     "output_type": "execute_result"
    }
   ],
   "source": [
    "# Agriculture\n",
    "agriculture = [\"barn\", \"conservatory\", \"cowshed\", \"farm_auxiliary\", \"greenhouse\", \"stable\", \"sty\"]\n",
    "api_call(key=\"building\", category=\"agriculture\", value_list=agriculture)\n",
    "len(data[\"id\"])"
   ]
  },
  {
   "cell_type": "markdown",
   "metadata": {},
   "source": [
    "### Fetch all POIs related to History"
   ]
  },
  {
   "cell_type": "code",
   "execution_count": 15,
   "metadata": {},
   "outputs": [
    {
     "data": {
      "text/plain": [
       "6786"
      ]
     },
     "execution_count": 15,
     "metadata": {},
     "output_type": "execute_result"
    }
   ],
   "source": [
    "# Historic\n",
    "api_call(key=\"historic\", category=\"historic\")\n",
    "len(data[\"id\"])"
   ]
  },
  {
   "cell_type": "markdown",
   "metadata": {},
   "source": [
    "### Fetch all POIs related to Tourism"
   ]
  },
  {
   "cell_type": "code",
   "execution_count": 16,
   "metadata": {},
   "outputs": [
    {
     "data": {
      "text/plain": [
       "6932"
      ]
     },
     "execution_count": 16,
     "metadata": {},
     "output_type": "execute_result"
    }
   ],
   "source": [
    "# Tourism\n",
    "api_call(key=\"tourism\", category=\"tourism\")\n",
    "len(data[\"id\"])"
   ]
  },
  {
   "cell_type": "markdown",
   "metadata": {},
   "source": [
    "### Creating pandas dataframe to store all POI data fetched from OSM"
   ]
  },
  {
   "cell_type": "code",
   "execution_count": 17,
   "metadata": {},
   "outputs": [],
   "source": [
    "# Creating dataframe to store data\n",
    "df = pd.DataFrame(data)"
   ]
  },
  {
   "cell_type": "code",
   "execution_count": 18,
   "metadata": {},
   "outputs": [
    {
     "data": {
      "text/html": [
       "<div>\n",
       "<style scoped>\n",
       "    .dataframe tbody tr th:only-of-type {\n",
       "        vertical-align: middle;\n",
       "    }\n",
       "\n",
       "    .dataframe tbody tr th {\n",
       "        vertical-align: top;\n",
       "    }\n",
       "\n",
       "    .dataframe thead th {\n",
       "        text-align: right;\n",
       "    }\n",
       "</style>\n",
       "<table border=\"1\" class=\"dataframe\">\n",
       "  <thead>\n",
       "    <tr style=\"text-align: right;\">\n",
       "      <th></th>\n",
       "      <th>id</th>\n",
       "      <th>category</th>\n",
       "      <th>sub_category</th>\n",
       "      <th>lat</th>\n",
       "      <th>lon</th>\n",
       "    </tr>\n",
       "  </thead>\n",
       "  <tbody>\n",
       "    <tr>\n",
       "      <th>0</th>\n",
       "      <td>346745629</td>\n",
       "      <td>sustenance</td>\n",
       "      <td>bar</td>\n",
       "      <td>12.960247</td>\n",
       "      <td>77.646907</td>\n",
       "    </tr>\n",
       "    <tr>\n",
       "      <th>1</th>\n",
       "      <td>347188390</td>\n",
       "      <td>sustenance</td>\n",
       "      <td>bar</td>\n",
       "      <td>12.933091</td>\n",
       "      <td>77.630678</td>\n",
       "    </tr>\n",
       "    <tr>\n",
       "      <th>2</th>\n",
       "      <td>351811154</td>\n",
       "      <td>sustenance</td>\n",
       "      <td>bar</td>\n",
       "      <td>13.002424</td>\n",
       "      <td>77.633937</td>\n",
       "    </tr>\n",
       "    <tr>\n",
       "      <th>3</th>\n",
       "      <td>609903172</td>\n",
       "      <td>sustenance</td>\n",
       "      <td>bar</td>\n",
       "      <td>12.912950</td>\n",
       "      <td>77.683123</td>\n",
       "    </tr>\n",
       "    <tr>\n",
       "      <th>4</th>\n",
       "      <td>181695452</td>\n",
       "      <td>sustenance</td>\n",
       "      <td>cafe</td>\n",
       "      <td>12.979373</td>\n",
       "      <td>77.714872</td>\n",
       "    </tr>\n",
       "  </tbody>\n",
       "</table>\n",
       "</div>"
      ],
      "text/plain": [
       "          id    category sub_category        lat        lon\n",
       "0  346745629  sustenance          bar  12.960247  77.646907\n",
       "1  347188390  sustenance          bar  12.933091  77.630678\n",
       "2  351811154  sustenance          bar  13.002424  77.633937\n",
       "3  609903172  sustenance          bar  12.912950  77.683123\n",
       "4  181695452  sustenance         cafe  12.979373  77.714872"
      ]
     },
     "execution_count": 18,
     "metadata": {},
     "output_type": "execute_result"
    }
   ],
   "source": [
    "df.head()"
   ]
  },
  {
   "cell_type": "code",
   "execution_count": 21,
   "metadata": {},
   "outputs": [
    {
     "name": "stdout",
     "output_type": "stream",
     "text": [
      "<class 'pandas.core.frame.DataFrame'>\n",
      "RangeIndex: 6932 entries, 0 to 6931\n",
      "Data columns (total 5 columns):\n",
      "id              6932 non-null int64\n",
      "category        6932 non-null object\n",
      "sub_category    6932 non-null object\n",
      "lat             6932 non-null float64\n",
      "lon             6932 non-null float64\n",
      "dtypes: float64(2), int64(1), object(2)\n",
      "memory usage: 270.9+ KB\n"
     ]
    }
   ],
   "source": [
    "df.info()"
   ]
  },
  {
   "cell_type": "code",
   "execution_count": 22,
   "metadata": {},
   "outputs": [
    {
     "data": {
      "text/plain": [
       "(6932, 5)"
      ]
     },
     "execution_count": 22,
     "metadata": {},
     "output_type": "execute_result"
    }
   ],
   "source": [
    "df.shape"
   ]
  },
  {
   "cell_type": "markdown",
   "metadata": {},
   "source": [
    "## Removing duplicates rows based on their IDs"
   ]
  },
  {
   "cell_type": "code",
   "execution_count": 24,
   "metadata": {},
   "outputs": [],
   "source": [
    "# Deleting duplicate rows based on id\n",
    "df.drop_duplicates(subset =\"id\", \n",
    "                     keep = False, inplace = True) "
   ]
  },
  {
   "cell_type": "code",
   "execution_count": 25,
   "metadata": {},
   "outputs": [
    {
     "data": {
      "text/plain": [
       "(6879, 5)"
      ]
     },
     "execution_count": 25,
     "metadata": {},
     "output_type": "execute_result"
    }
   ],
   "source": [
    "df.shape"
   ]
  },
  {
   "cell_type": "markdown",
   "metadata": {},
   "source": [
    "## Save the collected POI data as a CSV file: *bengaluru_geo_data.csv*"
   ]
  },
  {
   "cell_type": "code",
   "execution_count": 27,
   "metadata": {},
   "outputs": [],
   "source": [
    "df.to_csv(\"bengaluru_geo_data.csv\", index=False)"
   ]
  },
  {
   "cell_type": "markdown",
   "metadata": {},
   "source": [
    "<hr>"
   ]
  }
 ],
 "metadata": {
  "kernelspec": {
   "display_name": "Python 3",
   "language": "python",
   "name": "python3"
  },
  "language_info": {
   "codemirror_mode": {
    "name": "ipython",
    "version": 3
   },
   "file_extension": ".py",
   "mimetype": "text/x-python",
   "name": "python",
   "nbconvert_exporter": "python",
   "pygments_lexer": "ipython3",
   "version": "3.7.3"
  }
 },
 "nbformat": 4,
 "nbformat_minor": 2
}
